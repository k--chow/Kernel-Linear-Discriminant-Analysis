{
 "cells": [
  {
   "cell_type": "code",
   "execution_count": 23,
   "metadata": {},
   "outputs": [],
   "source": [
    "%matplotlib inline\n",
    "import numpy as np\n",
    "import matplotlib.pyplot as plt"
   ]
  },
  {
   "cell_type": "code",
   "execution_count": 248,
   "metadata": {},
   "outputs": [],
   "source": [
    "# generate some random data, maybe from two classes. circle example. XOR. Positive and negative numbers!\n",
    "data = np.random.normal(0, 1, (10, 2))\n",
    "class_data = [[], []]\n",
    "labels = []\n",
    "for d in data:\n",
    "    x = d[0]\n",
    "    y = d[1]\n",
    "    if y > x:\n",
    "        labels.append(1)\n",
    "        class_data[1].append((x, y))\n",
    "    else:\n",
    "        labels.append(0)\n",
    "        class_data[0].append((x, y))"
   ]
  },
  {
   "cell_type": "code",
   "execution_count": 727,
   "metadata": {},
   "outputs": [],
   "source": [
    "# random data circle, x^2 + y^2 < 0.5 = inside cirlce\n",
    "m = 200\n",
    "circle_data = np.random.normal(0, 1, (m, 2))\n",
    "circle_class_data = [[], []]\n",
    "circle_labels = []\n",
    "circle_labels_indices = [[], []]\n",
    "for i, d in enumerate(circle_data):\n",
    "    x = d[0]\n",
    "    y = d[1]\n",
    "    if np.sqrt(x**2 + y**2) < 1:\n",
    "        circle_labels.append(1)\n",
    "        circle_class_data[1].append((x, y))\n",
    "        circle_labels_indices[1].append(i)\n",
    "    else:\n",
    "        circle_labels.append(0)\n",
    "        circle_class_data[0].append((x, y))\n",
    "        circle_labels_indices[0].append(i)\n",
    "\n",
    "\n"
   ]
  },
  {
   "cell_type": "code",
   "execution_count": null,
   "metadata": {},
   "outputs": [],
   "source": []
  },
  {
   "cell_type": "code",
   "execution_count": 170,
   "metadata": {},
   "outputs": [
    {
     "data": {
      "text/plain": [
       "[[(0.6091782651016516, 1.3239694412800904),\n",
       "  (1.8035103975030533, -1.2056762631706999),\n",
       "  (-1.183349532332068, -1.4646611252238062),\n",
       "  (1.0752597301834017, 0.22441716713966373),\n",
       "  (-2.316726117092453, -1.8174188051940774)],\n",
       " [(0.3855707911153384, 0.04099251496133711),\n",
       "  (0.6916420114810651, 0.05095519495461874),\n",
       "  (-0.37628041370994575, -0.474565818028293),\n",
       "  (-0.15747688395868015, 0.594035534266988),\n",
       "  (0.6971593332397283, -0.6342397062820633)]]"
      ]
     },
     "execution_count": 170,
     "metadata": {},
     "output_type": "execute_result"
    }
   ],
   "source": [
    "# separate data by class\n",
    "circle_class_data"
   ]
  },
  {
   "cell_type": "code",
   "execution_count": 249,
   "metadata": {},
   "outputs": [
    {
     "data": {
      "text/plain": [
       "array([[-0.66665255,  0.18785936],\n",
       "       [ 1.49453777,  0.86236369],\n",
       "       [-0.84404446, -0.1852627 ],\n",
       "       [-0.29333837,  0.39083361],\n",
       "       [ 0.41297114, -0.14363475],\n",
       "       [-0.17670632, -1.51649167],\n",
       "       [ 0.20246671,  2.21059202],\n",
       "       [-0.29216809,  0.0951694 ],\n",
       "       [-0.45863388,  0.65471894],\n",
       "       [-0.90376853,  0.72320142]])"
      ]
     },
     "execution_count": 249,
     "metadata": {},
     "output_type": "execute_result"
    }
   ],
   "source": [
    "data"
   ]
  },
  {
   "cell_type": "code",
   "execution_count": 280,
   "metadata": {},
   "outputs": [
    {
     "data": {
      "text/plain": [
       "(3, 1)"
      ]
     },
     "execution_count": 280,
     "metadata": {},
     "output_type": "execute_result"
    }
   ],
   "source": [
    "np.shape(np.array(class_data[0])[:, :1])"
   ]
  },
  {
   "cell_type": "code",
   "execution_count": 661,
   "metadata": {},
   "outputs": [
    {
     "data": {
      "text/plain": [
       "<matplotlib.collections.PathCollection at 0x7f85296652b0>"
      ]
     },
     "execution_count": 661,
     "metadata": {},
     "output_type": "execute_result"
    },
    {
     "data": {
      "image/png": "[encoded data removed]",
      "text/plain": [
       "<Figure size 432x288 with 1 Axes>"
      ]
     },
     "metadata": {
      "needs_background": "light"
     },
     "output_type": "display_data"
    }
   ],
   "source": [
    "plt.scatter(np.array(class_data[0])[:, :1], np.array(class_data[0])[:, 1:], color='red')\n",
    "plt.scatter(np.array(class_data[1])[:, :1], np.array(class_data[1])[:, 1:], color='blue')\n",
    "#plt.scatter(ex1, np.zeros(len(ex1)), color='blue')\n",
    "\n",
    "#plt.scatter(data[:,:1], data[:,1:])"
   ]
  },
  {
   "cell_type": "code",
   "execution_count": 728,
   "metadata": {},
   "outputs": [
    {
     "data": {
      "text/plain": [
       "<matplotlib.collections.PathCollection at 0x7f85289052e8>"
      ]
     },
     "execution_count": 728,
     "metadata": {},
     "output_type": "execute_result"
    },
    {
     "data": {
      "image/png": "[encoded data removed]",
      "text/plain": [
       "<Figure size 432x288 with 1 Axes>"
      ]
     },
     "metadata": {
      "needs_background": "light"
     },
     "output_type": "display_data"
    }
   ],
   "source": [
    "# circles\n",
    "plt.scatter(np.array(circle_class_data[0])[:, :1], np.array(circle_class_data[0])[:, 1:], color='red')\n",
    "plt.scatter(np.array(circle_class_data[1])[:, :1], np.array(circle_class_data[1])[:, 1:], color='blue')\n",
    "#plt.scatter(ex1, np.zeros(len(ex1)), color='blue')\n",
    "\n",
    "#plt.scatter(data[:,:1], data[:,1:])"
   ]
  },
  {
   "cell_type": "code",
   "execution_count": 159,
   "metadata": {},
   "outputs": [
    {
     "data": {
      "text/plain": [
       "[0, 1, 0, 0, 0, 0, 0, 1, 0, 1]"
      ]
     },
     "execution_count": 159,
     "metadata": {},
     "output_type": "execute_result"
    }
   ],
   "source": [
    "circle_labels"
   ]
  },
  {
   "cell_type": "code",
   "execution_count": 168,
   "metadata": {},
   "outputs": [
    {
     "data": {
      "text/plain": [
       "[[(1.329460263492281, 2.489660895206533),\n",
       "  (1.5025689871883967, 0.18780718174103495),\n",
       "  (0.8855990402533241, 0.9120993117137289),\n",
       "  (-1.2237724557276113, 0.07659382932382235),\n",
       "  (1.0006652763260084, 0.08705092565029993),\n",
       "  (2.035094656098583, 0.2717857995178497),\n",
       "  (1.4280643051596187, -1.3723517162615448),\n",
       "  (0.0691177667515032, -2.3469516548429223),\n",
       "  (-1.5145103995910572, -0.3881980588251376),\n",
       "  (-2.847473004836695, -1.0850199816292698)],\n",
       " []]"
      ]
     },
     "execution_count": 168,
     "metadata": {},
     "output_type": "execute_result"
    }
   ],
   "source": [
    "circle_class_data"
   ]
  },
  {
   "cell_type": "code",
   "execution_count": 251,
   "metadata": {},
   "outputs": [],
   "source": [
    "mean_total = np.mean(data, axis=0)"
   ]
  },
  {
   "cell_type": "code",
   "execution_count": 252,
   "metadata": {},
   "outputs": [
    {
     "data": {
      "text/plain": [
       "array([-0.15253366,  0.32793493])"
      ]
     },
     "execution_count": 252,
     "metadata": {},
     "output_type": "execute_result"
    }
   ],
   "source": [
    "mean_total"
   ]
  },
  {
   "cell_type": "code",
   "execution_count": 253,
   "metadata": {},
   "outputs": [],
   "source": [
    "# Worry about annoying shapes here. It's not simply squaring it its a dot product. a.dot(a.T)\n",
    "#S_B = np.array([len(cd)*(np.mean(cd, axis=0) - mean_total).dot((np.mean(cd, axis=0) - mean_total)).T for cd in class_data])\n",
    "#S_W = np.array([[(d - np.mean(cd, axis=0))**2 for d in cd] for cd in class_data])\n",
    "def between_matrix(class_data, mean_total):\n",
    "    S_B = None\n",
    "    for cd in class_data:\n",
    "        n = len(cd)\n",
    "        m_i = np.mean(cd, axis=0)\n",
    "        temp = np.reshape((m_i - mean_total), (len(mean_total), 1))\n",
    "        if S_B is None:\n",
    "            S_B = n*np.dot(temp, temp.T)\n",
    "            #print(S_B)\n",
    "            continue\n",
    "        #print(\"new addition\", n*np.dot(temp, temp.T))\n",
    "        S_B += n*np.dot(temp, temp.T)\n",
    "        #print(S_B)\n",
    "    print(S_B) \n",
    "    return S_B\n",
    "    "
   ]
  },
  {
   "cell_type": "code",
   "execution_count": 254,
   "metadata": {},
   "outputs": [
    {
     "name": "stdout",
     "output_type": "stream",
     "text": [
      "[[ 2.28052864 -1.85656606]\n",
      " [-1.85656606  1.5114204 ]]\n"
     ]
    }
   ],
   "source": [
    "S_B = between_matrix(class_data, mean_total)"
   ]
  },
  {
   "cell_type": "code",
   "execution_count": 255,
   "metadata": {},
   "outputs": [],
   "source": [
    "def within_matrix(class_data, mean_total):\n",
    "    S_W = None\n",
    "    for cd in class_data:\n",
    "        for d in cd:\n",
    "            m_i = np.mean(cd, axis=0)\n",
    "            temp = np.reshape((d - m_i), (len(m_i), 1))\n",
    "            if S_W is None:\n",
    "                S_W = n*np.dot(temp, temp.T)\n",
    "                print(S_W)\n",
    "                continue\n",
    "            print(\"new addition\", n*np.dot(temp, temp.T))\n",
    "            S_W += n*np.dot(temp, temp.T)\n",
    "    print(S_W) \n",
    "    return S_W"
   ]
  },
  {
   "cell_type": "code",
   "execution_count": 256,
   "metadata": {},
   "outputs": [
    {
     "name": "stdout",
     "output_type": "stream",
     "text": [
      "[[4.20998156 5.1765899 ]\n",
      " [5.1765899  6.36513073]]\n",
      "new addition [[ 0.13441942 -0.10025206]\n",
      " [-0.10025206  0.07476952]]\n",
      "new addition [[2.83987012 4.71240395]\n",
      " [4.71240395 7.81963613]]\n",
      "new addition [[0.20299073 0.39752451]\n",
      " [0.39752451 0.77848747]]\n",
      "new addition [[0.71775679 1.45435127]\n",
      " [1.45435127 2.94687232]]\n",
      "new addition [[ 0.14761806 -0.16461717]\n",
      " [-0.16461717  0.18357381]]\n",
      "new addition [[ 2.22864538  5.43499587]\n",
      " [ 5.43499587 13.25432044]]\n",
      "new addition [[ 0.14963574 -0.42147999]\n",
      " [-0.42147999  1.18718549]]\n",
      "new addition [[0.00021313 0.00235935]\n",
      " [0.00235935 0.02611792]]\n",
      "new addition [[ 0.96187518 -0.30868382]\n",
      " [-0.30868382  0.09906244]]\n",
      "[[11.59300612 16.18319181]\n",
      " [16.18319181 32.73515628]]\n"
     ]
    }
   ],
   "source": [
    "S_W = within_matrix(class_data, mean_total)"
   ]
  },
  {
   "cell_type": "code",
   "execution_count": null,
   "metadata": {},
   "outputs": [],
   "source": []
  },
  {
   "cell_type": "code",
   "execution_count": 139,
   "metadata": {},
   "outputs": [],
   "source": [
    "# For when we reshape\n",
    "# np.reshape(mean_one, (2, 1))"
   ]
  },
  {
   "cell_type": "code",
   "execution_count": 257,
   "metadata": {},
   "outputs": [],
   "source": [
    "# eigenvalue problem\n",
    "vals, vecs = np.linalg.eig(np.dot(np.linalg.inv(S_W), S_B))"
   ]
  },
  {
   "cell_type": "code",
   "execution_count": 305,
   "metadata": {},
   "outputs": [],
   "source": [
    "# eigenvalue problem\n",
    "vals, vecs = np.linalg.eig(np.dot(np.linalg.inv(S_W), S_B))\n",
    "eig_pairs = [(np.abs(vals[i]), vecs[:,i]) for i in range(len(vals))]\n",
    "eig_pairs = sorted(eig_pairs, key=lambda k: k[0], reverse=True)"
   ]
  },
  {
   "cell_type": "code",
   "execution_count": 306,
   "metadata": {},
   "outputs": [
    {
     "data": {
      "text/plain": [
       "[(1.294741433282689, array([ 0.87322265, -0.48732146])),\n",
       " (5.551115123125783e-17, array([0.63133722, 0.77550842]))]"
      ]
     },
     "execution_count": 306,
     "metadata": {},
     "output_type": "execute_result"
    }
   ],
   "source": [
    "eig_pairs"
   ]
  },
  {
   "cell_type": "code",
   "execution_count": 307,
   "metadata": {},
   "outputs": [],
   "source": [
    "# sort vals, vecs\n",
    "w = eig_pairs[0][1]\n",
    "# reshape"
   ]
  },
  {
   "cell_type": "code",
   "execution_count": 308,
   "metadata": {},
   "outputs": [],
   "source": [
    "w = np.reshape(w, (2,))"
   ]
  },
  {
   "cell_type": "code",
   "execution_count": 309,
   "metadata": {},
   "outputs": [
    {
     "data": {
      "text/plain": [
       "<matplotlib.collections.PathCollection at 0x7f8538ff0a90>"
      ]
     },
     "execution_count": 309,
     "metadata": {},
     "output_type": "execute_result"
    },
    {
     "data": {
      "image/png": "[encoded data removed]",
      "text/plain": [
       "<Figure size 432x288 with 1 Axes>"
      ]
     },
     "metadata": {
      "needs_background": "light"
     },
     "output_type": "display_data"
    }
   ],
   "source": [
    "ex0 = np.array([np.dot(w, d) for d in class_data[0]])\n",
    "ex1 = np.array([np.dot(w, d) for d in class_data[1]])\n",
    "\n",
    "plt.scatter(ex0, np.zeros(len(ex0)), color='red')\n",
    "plt.scatter(ex1, np.zeros(len(ex1)), color='blue')\n",
    "# dope!\n",
    "# check this. should be n-1 classes I forgot!"
   ]
  },
  {
   "cell_type": "code",
   "execution_count": 192,
   "metadata": {},
   "outputs": [
    {
     "name": "stdout",
     "output_type": "stream",
     "text": [
      "[[ 1.49623642  4.67716201]\n",
      " [ 4.67716201 14.62058011]]\n",
      "new addition [[13.04561716 -4.46284562]\n",
      " [-4.46284562  1.52671896]]\n",
      "new addition [[5.57832674 4.14167651]\n",
      " [4.14167651 3.07502323]]\n",
      "new addition [[4.6456214  3.50157626]\n",
      " [3.50157626 2.63926722]]\n",
      "new addition [[21.42395029 11.38214621]\n",
      " [11.38214621  6.04712253]]\n",
      "new addition [[0.07556762 0.06903013]\n",
      " [0.06903013 0.06305821]]\n",
      "new addition [[0.78683657 0.24042218]\n",
      " [0.24042218 0.0734623 ]]\n",
      "new addition [[1.55951833 0.97407268]\n",
      " [0.97407268 0.60840425]]\n",
      "new addition [[ 0.65804496 -1.10096022]\n",
      " [-1.10096022  1.84199179]]\n",
      "new addition [[ 0.80653463 -0.98729671]\n",
      " [-0.98729671  1.20857152]]\n",
      "[[50.07625412 18.43498344]\n",
      " [18.43498344 31.70420012]]\n",
      "[[0.15693628 0.31525847]\n",
      " [0.31525847 0.63330103]]\n"
     ]
    }
   ],
   "source": [
    "# Try the above on circle data.\n",
    "circle_mean_total = np.mean(circle_data, axis=0)\n",
    "S_W_circle = within_matrix(circle_class_data, circle_mean_total)\n",
    "S_B_circle = between_matrix(circle_class_data, circle_mean_total)"
   ]
  },
  {
   "cell_type": "code",
   "execution_count": 193,
   "metadata": {},
   "outputs": [
    {
     "data": {
      "text/plain": [
       "array([[50.07625412, 18.43498344],\n",
       "       [18.43498344, 31.70420012]])"
      ]
     },
     "execution_count": 193,
     "metadata": {},
     "output_type": "execute_result"
    }
   ],
   "source": [
    "S_W_circle"
   ]
  },
  {
   "cell_type": "code",
   "execution_count": 194,
   "metadata": {},
   "outputs": [],
   "source": [
    "# eigenvalue problem\n",
    "w_circle = np.dot(np.linalg.inv(S_W_circle), S_B_circle)"
   ]
  },
  {
   "cell_type": "code",
   "execution_count": 195,
   "metadata": {},
   "outputs": [
    {
     "data": {
      "text/plain": [
       "<matplotlib.collections.PathCollection at 0x7f853a115fd0>"
      ]
     },
     "execution_count": 195,
     "metadata": {},
     "output_type": "execute_result"
    },
    {
     "data": {
      "image/png": "[encoded data removed]",
      "text/plain": [
       "<Figure size 432x288 with 1 Axes>"
      ]
     },
     "metadata": {
      "needs_background": "light"
     },
     "output_type": "display_data"
    }
   ],
   "source": [
    "ex_circle = np.array([np.dot(w_circle, d) for d in circle_data])\n",
    "plt.scatter(ex_circle[:,:1], ex_circle[:,1:])\n",
    "# dope!"
   ]
  },
  {
   "cell_type": "code",
   "execution_count": 693,
   "metadata": {},
   "outputs": [],
   "source": [
    "# Quadratic Kernel\n",
    "def quadratic_kernel(x_1, x_2):\n",
    "    return (np.matmul(x_1.T, x_2) + 1)**2\n",
    "\n",
    "#chosen_kernel = sklearn.metrics.pairwise.polynomial_kernel #sklearn.metrics.pairwise.rbf_kernel\n",
    "chosen_kernel = quadratic_kernel"
   ]
  },
  {
   "cell_type": "code",
   "execution_count": 694,
   "metadata": {},
   "outputs": [
    {
     "data": {
      "text/plain": [
       "144"
      ]
     },
     "execution_count": 694,
     "metadata": {},
     "output_type": "execute_result"
    }
   ],
   "source": [
    "chosen_kernel(np.reshape(np.array([1, 2]), (2, 1)), np.reshape(np.array([3, 4]), (2, 1)))[0][0]"
   ]
  },
  {
   "cell_type": "code",
   "execution_count": 695,
   "metadata": {},
   "outputs": [
    {
     "ename": "TypeError",
     "evalue": "quadratic_kernel() missing 1 required positional argument: 'x_2'",
     "output_type": "error",
     "traceback": [
      "\u001b[0;31m---------------------------------------------------------------------------\u001b[0m",
      "\u001b[0;31mTypeError\u001b[0m                                 Traceback (most recent call last)",
      "\u001b[0;32m<ipython-input-695-154dc9bec93e>\u001b[0m in \u001b[0;36m<module>\u001b[0;34m\u001b[0m\n\u001b[0;32m----> 1\u001b[0;31m \u001b[0mkernel_matrix\u001b[0m \u001b[0;34m=\u001b[0m \u001b[0mchosen_kernel\u001b[0m\u001b[0;34m(\u001b[0m\u001b[0mcircle_data\u001b[0m\u001b[0;34m)\u001b[0m\u001b[0;34m\u001b[0m\u001b[0;34m\u001b[0m\u001b[0m\n\u001b[0m",
      "\u001b[0;31mTypeError\u001b[0m: quadratic_kernel() missing 1 required positional argument: 'x_2'"
     ]
    }
   ],
   "source": [
    "kernel_matrix = chosen_kernel(circle_data)"
   ]
  },
  {
   "cell_type": "code",
   "execution_count": 527,
   "metadata": {},
   "outputs": [
    {
     "data": {
      "text/plain": [
       "'\\n# kernel LDA get kernels from scikit learn\\nchosen_kernel = quadratic_kernel\\n\\nkernel_matrix = [] #this is a vector!\\nfor i, ccd in enumerate(circle_class_data):\\n    kernel_matrix.append([])\\n    for j, cid in enumerate(circle_data):\\n        M_ij = 0\\n        for ccd_w in ccd:\\n            M_ij += chosen_kernel(cid, ccd_w)\\n        M_ij = M_ij/float(len(ccd))\\n        kernel_matrix[i].append(M_ij)\\nkernel_matrix = np.array(kernel_matrix)\\n\\nkernel_mean_total = np.sum(kernel_matrix, axis=0)\\n  \\nM = None\\n\\n# What is happening!\\nfor cd in kernel_matrix:\\n    n = len(cd)\\n    M_i = np.mean(cd, axis=0)\\n    temp = np.reshape((m_i - mean_total), (len(mean_total), 1))\\n    if S_B is None:\\n        S_B = n*np.dot(temp, temp.T)\\n        #print(S_B)\\n        continue\\n    #print(\"new addition\", n*np.dot(temp, temp.T))\\n    S_B += n*np.dot(temp, temp.T)\\n    #print(S_B)\\nprint(S_B) \\n'"
      ]
     },
     "execution_count": 527,
     "metadata": {},
     "output_type": "execute_result"
    }
   ],
   "source": [
    "\"\"\"\n",
    "# kernel LDA get kernels from scikit learn\n",
    "chosen_kernel = quadratic_kernel\n",
    "\n",
    "kernel_matrix = [] #this is a vector!\n",
    "for i, ccd in enumerate(circle_class_data):\n",
    "    kernel_matrix.append([])\n",
    "    for j, cid in enumerate(circle_data):\n",
    "        M_ij = 0\n",
    "        for ccd_w in ccd:\n",
    "            M_ij += chosen_kernel(cid, ccd_w)\n",
    "        M_ij = M_ij/float(len(ccd))\n",
    "        kernel_matrix[i].append(M_ij)\n",
    "kernel_matrix = np.array(kernel_matrix)\n",
    "\n",
    "kernel_mean_total = np.sum(kernel_matrix, axis=0)\n",
    "  \n",
    "M = None\n",
    "\n",
    "# What is happening!\n",
    "for cd in kernel_matrix:\n",
    "    n = len(cd)\n",
    "    M_i = np.mean(cd, axis=0)\n",
    "    temp = np.reshape((m_i - mean_total), (len(mean_total), 1))\n",
    "    if S_B is None:\n",
    "        S_B = n*np.dot(temp, temp.T)\n",
    "        #print(S_B)\n",
    "        continue\n",
    "    #print(\"new addition\", n*np.dot(temp, temp.T))\n",
    "    S_B += n*np.dot(temp, temp.T)\n",
    "    #print(S_B)\n",
    "print(S_B) \n",
    "\"\"\"\n"
   ]
  },
  {
   "cell_type": "code",
   "execution_count": 729,
   "metadata": {},
   "outputs": [],
   "source": [
    "kernel_matrix = []\n",
    "for i in range(len(circle_data)):\n",
    "    kernel_matrix.append([])\n",
    "    for j in range(len(circle_data)):\n",
    "        kernel_matrix[i].append(chosen_kernel(np.reshape(circle_data[i], (2, 1)), np.reshape(circle_data[j], (2, 1)))[0][0])\n",
    "kernel_matrix = np.array(kernel_matrix)"
   ]
  },
  {
   "cell_type": "code",
   "execution_count": 730,
   "metadata": {},
   "outputs": [],
   "source": [
    "class_kernel_matrix = [[], []]\n",
    "for i, l in enumerate(circle_labels):\n",
    "    class_kernel_matrix[l].append(kernel_matrix[i])"
   ]
  },
  {
   "cell_type": "code",
   "execution_count": 731,
   "metadata": {},
   "outputs": [
    {
     "data": {
      "text/plain": [
       "(200, 200)"
      ]
     },
     "execution_count": 731,
     "metadata": {},
     "output_type": "execute_result"
    }
   ],
   "source": [
    "np.shape(kernel_matrix)"
   ]
  },
  {
   "cell_type": "code",
   "execution_count": 732,
   "metadata": {},
   "outputs": [
    {
     "data": {
      "text/plain": [
       "(2,)"
      ]
     },
     "execution_count": 732,
     "metadata": {},
     "output_type": "execute_result"
    }
   ],
   "source": [
    "np.shape(class_kernel_matrix)"
   ]
  },
  {
   "cell_type": "code",
   "execution_count": 733,
   "metadata": {},
   "outputs": [],
   "source": [
    "k_matrix = np.mean(kernel_matrix, axis=0)"
   ]
  },
  {
   "cell_type": "code",
   "execution_count": 734,
   "metadata": {},
   "outputs": [
    {
     "data": {
      "text/plain": [
       "(200,)"
      ]
     },
     "execution_count": 734,
     "metadata": {},
     "output_type": "execute_result"
    }
   ],
   "source": [
    "np.shape(k_matrix)"
   ]
  },
  {
   "cell_type": "code",
   "execution_count": null,
   "metadata": {},
   "outputs": [],
   "source": []
  },
  {
   "cell_type": "code",
   "execution_count": 553,
   "metadata": {},
   "outputs": [],
   "source": [
    "kc_matrix = [] #L x 1 x n classes. \n",
    "for i, indices in enumerate(circle_labels_indices):\n",
    "    kc_matrix.append([])\n",
    "    n = len(indices)\n",
    "    kc_matrix[i] = (1/float(n))*np.mean(kernel_matrix[indices], axis=0)\n",
    "kc_matrix = np.array(kc_matrix)"
   ]
  },
  {
   "cell_type": "code",
   "execution_count": 554,
   "metadata": {},
   "outputs": [
    {
     "data": {
      "text/plain": [
       "(2, 1000, 1, 1)"
      ]
     },
     "execution_count": 554,
     "metadata": {},
     "output_type": "execute_result"
    }
   ],
   "source": [
    "np.shape(kc_matrix)"
   ]
  },
  {
   "cell_type": "code",
   "execution_count": 735,
   "metadata": {},
   "outputs": [],
   "source": [
    "kc_matrix = [] #L x 1 x n classes. \n",
    "for i, ccd in enumerate(circle_class_data):\n",
    "    kc_matrix.append([])\n",
    "    for j, cid in enumerate(circle_data):\n",
    "        # sum up the length\n",
    "        n = len(ccd)\n",
    "        kc_matrix[i].append(1/float(n)*sum([chosen_kernel(np.reshape(cid, (2, 1)), np.reshape(ccd_w, (2, 1)))[0][0] for ccd_w in ccd]))\n",
    "kc_matrix = np.array(kc_matrix)\n"
   ]
  },
  {
   "cell_type": "code",
   "execution_count": 736,
   "metadata": {},
   "outputs": [],
   "source": [
    "kj_matrix = [] #N x L x Li. \n",
    "for i, ccd in enumerate(circle_class_data):\n",
    "    kj_matrix.append([])\n",
    "    for j, cid in enumerate(circle_data):\n",
    "        kj_matrix[i].append([])\n",
    "        for k, ccd_w in enumerate(ccd):\n",
    "            kj_matrix[i][j].append(chosen_kernel(np.reshape(cid, (2, 1)), np.reshape(ccd_w, (2, 1)))[0][0])\n",
    "\n",
    "#kj_matrix = np.array(kj_matrix)\n"
   ]
  },
  {
   "cell_type": "code",
   "execution_count": null,
   "metadata": {},
   "outputs": [],
   "source": []
  },
  {
   "cell_type": "code",
   "execution_count": null,
   "metadata": {},
   "outputs": [],
   "source": []
  },
  {
   "cell_type": "code",
   "execution_count": null,
   "metadata": {},
   "outputs": [],
   "source": []
  },
  {
   "cell_type": "code",
   "execution_count": 737,
   "metadata": {},
   "outputs": [
    {
     "data": {
      "text/plain": [
       "(2, 200)"
      ]
     },
     "execution_count": 737,
     "metadata": {},
     "output_type": "execute_result"
    }
   ],
   "source": [
    "np.shape(kj_matrix)"
   ]
  },
  {
   "cell_type": "code",
   "execution_count": null,
   "metadata": {},
   "outputs": [],
   "source": []
  },
  {
   "cell_type": "code",
   "execution_count": 738,
   "metadata": {},
   "outputs": [
    {
     "data": {
      "text/plain": [
       "(2, 200)"
      ]
     },
     "execution_count": 738,
     "metadata": {},
     "output_type": "execute_result"
    }
   ],
   "source": [
    "np.shape(kc_matrix)"
   ]
  },
  {
   "cell_type": "code",
   "execution_count": 739,
   "metadata": {},
   "outputs": [
    {
     "data": {
      "text/plain": [
       "(200,)"
      ]
     },
     "execution_count": 739,
     "metadata": {},
     "output_type": "execute_result"
    }
   ],
   "source": [
    "np.shape(k_matrix)"
   ]
  },
  {
   "cell_type": "code",
   "execution_count": 740,
   "metadata": {},
   "outputs": [],
   "source": [
    "import pdb\n",
    "def kernel_between_matrix(kc_matrix, k_matrix, class_data):\n",
    "    kernel_S_B = None\n",
    "    k_kt = np.matmul(np.reshape(k_matrix, (m, 1)), np.reshape(k_matrix, (m, 1)).T)\n",
    "    for i, kc in enumerate(kc_matrix):\n",
    "        n = len(class_data[i])\n",
    "        if kernel_S_B is None:\n",
    "            kernel_S_B = n*np.matmul(np.reshape(kc, (m, 1)),np.reshape(kc, (m, 1)).T) - k_kt\n",
    "            continue\n",
    "        kernel_S_B += n*np.matmul(np.reshape(kc, (m, 1)),np.reshape(kc, (m, 1)).T) - k_kt\n",
    "    return kernel_S_B\n",
    "    \n",
    "def kernel_within_matrix(kernel_matrix, kc_matrix, class_data):\n",
    "    rhs = None\n",
    "    for i, kc in enumerate(kc_matrix):\n",
    "        n = len(class_data[i])\n",
    "        \n",
    "        if rhs is None:\n",
    "            rhs = n*np.dot(np.reshape(kc, (m, 1)),np.reshape(kc, (m, 1)).T) \n",
    "            continue\n",
    "        rhs += n*np.dot(np.reshape(kc, (m, 1)),np.reshape(kc, (m, 1)).T)\n",
    "    return kernel_matrix **2 - rhs \n",
    "\n",
    "def kernel_within_matrix2(kj_matrix, class_data, g):\n",
    "    rhs = None\n",
    "    for i, kj in enumerate(kj_matrix):\n",
    "        n = len(class_data[i])\n",
    "        mid = np.identity(n) - (np.ones((n, n))/float(n))\n",
    "        print(np.shape(mid))\n",
    "        if rhs is None:\n",
    "            #pdb.set_trace()\n",
    "            test = np.matmul(np.reshape(kj, (m, n)), mid)\n",
    "            rhs = np.matmul(test, np.reshape(kj, (m, n)).T)\n",
    "            continue\n",
    "        rhs += np.matmul(np.matmul(kj, mid), np.transpose(kj))\n",
    "    return rhs + g*np.identity(m)"
   ]
  },
  {
   "cell_type": "code",
   "execution_count": 741,
   "metadata": {},
   "outputs": [
    {
     "data": {
      "text/plain": [
       "(200, 122)"
      ]
     },
     "execution_count": 741,
     "metadata": {},
     "output_type": "execute_result"
    }
   ],
   "source": [
    "np.shape(kj_matrix[0])"
   ]
  },
  {
   "cell_type": "code",
   "execution_count": 756,
   "metadata": {},
   "outputs": [
    {
     "name": "stdout",
     "output_type": "stream",
     "text": [
      "(122, 122)\n",
      "(78, 78)\n"
     ]
    }
   ],
   "source": [
    "kernel_S_B = kernel_between_matrix(kc_matrix, k_matrix, circle_class_data)\n",
    "#kernel_S_W = kernel_within_matrix(kernel_matrix, kc_matrix, circle_class_data)\n",
    "kernel_S_W = kernel_within_matrix2(kj_matrix, circle_class_data, 10)"
   ]
  },
  {
   "cell_type": "code",
   "execution_count": 757,
   "metadata": {},
   "outputs": [
    {
     "data": {
      "text/plain": [
       "(200, 200)"
      ]
     },
     "execution_count": 757,
     "metadata": {},
     "output_type": "execute_result"
    }
   ],
   "source": [
    "np.shape(kernel_S_B)"
   ]
  },
  {
   "cell_type": "code",
   "execution_count": 758,
   "metadata": {},
   "outputs": [],
   "source": [
    "w_circle_kernel = np.matmul(np.linalg.inv(kernel_S_W), kernel_S_B)"
   ]
  },
  {
   "cell_type": "code",
   "execution_count": 759,
   "metadata": {},
   "outputs": [
    {
     "data": {
      "text/plain": [
       "(200, 200)"
      ]
     },
     "execution_count": 759,
     "metadata": {},
     "output_type": "execute_result"
    }
   ],
   "source": [
    "np.shape(w_circle_kernel)"
   ]
  },
  {
   "cell_type": "code",
   "execution_count": 760,
   "metadata": {},
   "outputs": [],
   "source": [
    "# eigenvalue problem\n",
    "vals, vecs = np.linalg.eig(np.dot(np.linalg.inv(kernel_S_W), kernel_S_B))\n",
    "eig_pairs = [(np.abs(vals[i]), vecs[:,i]) for i in range(len(vals))]\n",
    "eig_pairs = sorted(eig_pairs, key=lambda k: k[0], reverse=True)"
   ]
  },
  {
   "cell_type": "code",
   "execution_count": null,
   "metadata": {},
   "outputs": [],
   "source": []
  },
  {
   "cell_type": "code",
   "execution_count": 761,
   "metadata": {},
   "outputs": [],
   "source": [
    "w_circle_kernel = eig_pairs[0][1]"
   ]
  },
  {
   "cell_type": "code",
   "execution_count": 762,
   "metadata": {},
   "outputs": [
    {
     "data": {
      "text/plain": [
       "array([-0.08799514+0.j,  0.0333693 +0.j, -0.01036156+0.j, -0.04588341+0.j,\n",
       "        0.08080074+0.j, -0.00461409+0.j, -0.08002443+0.j, -0.07050734+0.j,\n",
       "       -0.05835017+0.j, -0.09889307+0.j, -0.04740763+0.j, -0.00431309+0.j,\n",
       "        0.08785424+0.j, -0.0138764 +0.j, -0.02295476+0.j, -0.04229133+0.j,\n",
       "       -0.06766127+0.j,  0.02215719+0.j, -0.00157516+0.j, -0.08813861+0.j,\n",
       "        0.06895786+0.j, -0.0303163 +0.j, -0.06588355+0.j, -0.09635354+0.j,\n",
       "       -0.05123013+0.j, -0.04281024+0.j, -0.04039447+0.j, -0.0714552 +0.j,\n",
       "       -0.06582499+0.j, -0.10027185+0.j, -0.00952646+0.j, -0.02390586+0.j,\n",
       "       -0.06283314+0.j, -0.08695729+0.j, -0.08732797+0.j, -0.08928008+0.j,\n",
       "       -0.03669646+0.j, -0.09021155+0.j, -0.0409127 +0.j, -0.06731988+0.j,\n",
       "       -0.08881284+0.j, -0.09461424+0.j, -0.03705219+0.j, -0.09780608+0.j,\n",
       "       -0.02781016+0.j, -0.03035359+0.j, -0.01083407+0.j, -0.06001418+0.j,\n",
       "       -0.06751614+0.j, -0.08081888+0.j, -0.07485506+0.j, -0.0750898 +0.j,\n",
       "       -0.09741567+0.j,  0.01371341+0.j, -0.09377739+0.j, -0.08404476+0.j,\n",
       "        0.10227921+0.j, -0.07047341+0.j, -0.0943932 +0.j, -0.10059727+0.j,\n",
       "        0.01758711+0.j, -0.00874122+0.j, -0.04738968+0.j, -0.06849874+0.j,\n",
       "       -0.0733202 +0.j, -0.01815079+0.j, -0.07728932+0.j,  0.01788656+0.j,\n",
       "       -0.08077819+0.j, -0.08240683+0.j, -0.04326196+0.j, -0.0481401 +0.j,\n",
       "       -0.09503426+0.j, -0.05380795+0.j, -0.09119656+0.j, -0.07225728+0.j,\n",
       "       -0.09185693+0.j, -0.07205974+0.j, -0.06595096+0.j, -0.06375069+0.j,\n",
       "       -0.0829649 +0.j, -0.07426413+0.j, -0.08743447+0.j, -0.06444023+0.j,\n",
       "       -0.07564096+0.j,  0.00564476+0.j,  0.07732719+0.j, -0.08706888+0.j,\n",
       "       -0.0244996 +0.j, -0.04520703+0.j,  0.02432551+0.j, -0.03426888+0.j,\n",
       "       -0.08594618+0.j,  0.00893886+0.j, -0.06291925+0.j, -0.09739118+0.j,\n",
       "       -0.00580248+0.j, -0.03553577+0.j, -0.06851815+0.j, -0.08093071+0.j,\n",
       "       -0.0843115 +0.j, -0.08781221+0.j, -0.09402948+0.j, -0.08231253+0.j,\n",
       "       -0.07687105+0.j, -0.0899459 +0.j, -0.04862849+0.j, -0.02258543+0.j,\n",
       "       -0.08942754+0.j, -0.08603808+0.j, -0.0404843 +0.j, -0.07296291+0.j,\n",
       "       -0.09740556+0.j, -0.08093393+0.j, -0.05096588+0.j, -0.05839854+0.j,\n",
       "        0.00184794+0.j, -0.01239809+0.j, -0.05295036+0.j, -0.07054333+0.j,\n",
       "       -0.05516269+0.j,  0.16885906+0.j,  0.02086225+0.j, -0.09796499+0.j,\n",
       "       -0.07870859+0.j, -0.02179081+0.j, -0.06823161+0.j,  0.06128697+0.j,\n",
       "       -0.08321336+0.j, -0.09463547+0.j, -0.07934672+0.j, -0.07465643+0.j,\n",
       "       -0.06190901+0.j,  0.03982827+0.j, -0.02707031+0.j,  0.0213496 +0.j,\n",
       "       -0.02521985+0.j, -0.08815295+0.j, -0.0925447 +0.j, -0.03808008+0.j,\n",
       "        0.1815061 +0.j, -0.08322052+0.j, -0.05023779+0.j, -0.09944797+0.j,\n",
       "       -0.01093463+0.j, -0.09201207+0.j, -0.05532353+0.j, -0.04944899+0.j,\n",
       "        0.00234904+0.j, -0.07039096+0.j, -0.05539846+0.j, -0.09703796+0.j,\n",
       "       -0.01800017+0.j, -0.0838182 +0.j, -0.06115802+0.j, -0.0634124 +0.j,\n",
       "       -0.0758737 +0.j, -0.08617658+0.j, -0.06761645+0.j, -0.07939501+0.j,\n",
       "       -0.08406448+0.j,  0.01007634+0.j, -0.01772007+0.j, -0.04805458+0.j,\n",
       "       -0.09511849+0.j,  0.05009351+0.j, -0.08657635+0.j, -0.10015266+0.j,\n",
       "       -0.0871339 +0.j, -0.02871969+0.j, -0.04253736+0.j, -0.04043667+0.j,\n",
       "       -0.09518994+0.j, -0.01492308+0.j, -0.09585515+0.j, -0.07982608+0.j,\n",
       "       -0.08656426+0.j,  0.06053404+0.j, -0.0884984 +0.j, -0.08567313+0.j,\n",
       "        0.05688539+0.j, -0.03081168+0.j, -0.09626071+0.j, -0.09016977+0.j,\n",
       "       -0.06428881+0.j,  0.12961922+0.j, -0.02285386+0.j, -0.0942731 +0.j,\n",
       "       -0.07683413+0.j, -0.0822002 +0.j, -0.07487012+0.j, -0.09856305+0.j,\n",
       "       -0.09693486+0.j,  0.02142077+0.j, -0.09564503+0.j, -0.08951783+0.j,\n",
       "       -0.09264223+0.j, -0.06853965+0.j, -0.0387814 +0.j, -0.08490886+0.j])"
      ]
     },
     "execution_count": 762,
     "metadata": {},
     "output_type": "execute_result"
    }
   ],
   "source": [
    "w_circle_kernel"
   ]
  },
  {
   "cell_type": "code",
   "execution_count": 764,
   "metadata": {},
   "outputs": [
    {
     "data": {
      "text/plain": [
       "<matplotlib.collections.PathCollection at 0x7f8534443908>"
      ]
     },
     "execution_count": 764,
     "metadata": {},
     "output_type": "execute_result"
    },
    {
     "data": {
      "image/png": "[encoded data removed]",
      "text/plain": [
       "<Figure size 432x288 with 1 Axes>"
      ]
     },
     "metadata": {
      "needs_background": "light"
     },
     "output_type": "display_data"
    }
   ],
   "source": [
    "# Visualize what it looks like.\n",
    "ex_circle_0 = np.array([np.dot(w_circle_kernel, d) for d in class_kernel_matrix[0]])\n",
    "ex_circle_1 = np.array([np.dot(w_circle_kernel, d) for d in class_kernel_matrix[1]])\n",
    "plt.scatter(ex_circle_0, np.random.random(len(ex_circle_0)), color='red')\n",
    "plt.scatter(ex_circle_1, np.random.random(len(ex_circle_1)), color='blue')\n",
    "\n",
    "# dope!"
   ]
  },
  {
   "cell_type": "code",
   "execution_count": 682,
   "metadata": {},
   "outputs": [
    {
     "data": {
      "text/plain": [
       "[array([ 1.43240602e+00,  1.06451148e+00,  1.34630315e+01,  6.53767163e-02,\n",
       "         1.21548242e-02,  1.63064660e+00,  4.85025666e-01,  5.80292414e+00,\n",
       "         1.23080594e+01,  7.20192185e+00,  3.52143618e+00,  2.46807000e-04,\n",
       "        -9.19788371e-01,  1.09912411e+01, -5.74312186e-02,  1.28335551e+01,\n",
       "         2.55742145e+00,  5.73458352e-01,  4.37469797e+00,  4.25967213e+00,\n",
       "         4.82898064e+01, -7.12092580e-01,  2.50016230e-03, -2.29490127e-01,\n",
       "         7.93416280e+00, -1.00811584e-02, -3.97913638e+00,  2.18331082e-01,\n",
       "         3.09694407e+00,  6.86154102e+00,  2.83397482e+00,  5.72800356e+00,\n",
       "         3.09098220e-01, -4.00883830e-04, -7.63393458e-01, -1.33743658e+00,\n",
       "         5.50289935e+00,  1.89110697e+00,  6.10599502e+00, -1.55185240e+00,\n",
       "         3.44999281e-01,  2.02865742e-04,  2.05707711e+00,  9.22077543e+00,\n",
       "         2.15377320e+00,  1.89330427e-01,  2.77890121e+00,  1.10754294e-01,\n",
       "         4.86629945e+01,  7.02823097e-01]),\n",
       " array([-8.25654824e-02,  5.90714591e+00,  6.53767163e-02,  1.03248101e+02,\n",
       "        -1.62893165e+01,  3.10702300e+01,  2.34689156e-02, -4.16182103e-01,\n",
       "        -1.14738439e+01,  1.99337467e-01,  1.22940049e+01,  1.33119807e+01,\n",
       "         4.66800641e+01,  4.22466219e-01,  4.42772103e+01, -4.57066742e+00,\n",
       "         5.05526460e+00,  3.76277893e+01, -5.10458986e-02,  9.35019130e+01,\n",
       "        -7.00955776e+00,  1.68748456e-01,  1.76365975e+01,  4.96093401e+00,\n",
       "         3.06343546e-01,  1.95767334e+01, -1.22580346e-01,  2.87116817e+00,\n",
       "         2.12533256e+01,  1.22246336e-04,  8.81327686e-01,  1.09358978e+00,\n",
       "         2.20923893e-01,  1.05568709e+01, -1.54042853e+00,  4.87744630e-01,\n",
       "         4.28909980e+00,  2.05710395e-01, -2.25321165e+01,  1.66078017e+01,\n",
       "         2.94018967e+01,  2.99517635e+00,  4.28392057e+00, -7.00555951e-02,\n",
       "        -3.71680440e-02,  5.43524161e+01, -5.57816743e+01, -4.33758420e-01,\n",
       "         1.96398778e-02,  7.31238239e+00]),\n",
       " array([ 1.53357452e+01,  3.10890728e-04,  1.21548242e-02, -1.62893165e+01,\n",
       "         1.94055004e+02, -4.10458053e+00,  8.34749979e+00,  9.72166259e+00,\n",
       "         3.59039816e+01,  1.20693538e-01, -1.06003055e+00,  8.34260109e-02,\n",
       "         2.37869413e-03,  1.25518339e-09, -6.87331973e-02,  1.74452465e+01,\n",
       "        -7.05285764e-03, -3.19155842e+00,  6.64397321e+00, -4.81441710e+01,\n",
       "         3.50709456e+00,  4.23322889e+01,  9.41170131e-04,  6.77404563e+00,\n",
       "         3.48113476e-02,  4.75382391e-02,  1.56723460e+02,  8.34741447e-01,\n",
       "        -3.19947112e+00,  1.43875988e+00,  2.29257827e-01,  2.74177304e-03,\n",
       "         5.68354282e+00,  4.71680564e-01,  1.60221487e+02,  4.06836492e+01,\n",
       "        -1.28885193e-01,  1.78944343e+00,  8.77447289e+01,  3.44151837e+00,\n",
       "        -1.12082539e+00,  3.29120973e+00,  1.83791538e-06,  3.00810260e+00,\n",
       "         1.06197550e+01, -4.88071766e+00,  2.16867801e+02,  4.37600340e+01,\n",
       "        -8.60745579e-01,  1.72315576e-04]),\n",
       " array([ 1.88274349e-03,  3.58898044e+00,  1.63064660e+00,  3.10702300e+01,\n",
       "        -4.10458053e+00,  1.48684248e+01,  9.16189471e-02,  7.50612480e-03,\n",
       "        -1.86268330e-01,  1.37277488e+00,  8.72956438e+00,  3.39727916e+00,\n",
       "         6.60673514e+00,  2.39679452e+00,  8.93949155e+00, -5.12487161e-03,\n",
       "         4.20003554e+00,  1.47346374e+01,  5.18161871e-02,  4.44643395e+01,\n",
       "         7.33553607e-03, -2.46225515e-04,  4.77404351e+00,  5.07701716e-01,\n",
       "         1.70845308e+00,  4.09396623e+00, -1.07368049e+00,  1.36760812e+00,\n",
       "         1.26791240e+01,  4.26970058e-01,  1.49292296e+00,  2.41679982e+00,\n",
       "         2.29099148e-01,  2.37135362e+00, -1.62522465e+00,  5.30469181e-08,\n",
       "         5.06025959e+00,  5.75229699e-01, -1.46472706e+00,  1.41261074e+00,\n",
       "         1.10538154e+01,  7.31599609e-01,  3.47535951e+00,  1.52798058e-01,\n",
       "         1.68433864e-02,  1.81797571e+01, -7.44374674e+00, -4.24379910e-02,\n",
       "         4.17769280e+00,  3.82096619e+00]),\n",
       " array([ 4.38757293e+00,  3.12619466e-01,  5.80292414e+00, -4.16182103e-01,\n",
       "         9.72166259e+00,  7.50612480e-03,  1.75144430e+00,  8.40048123e+00,\n",
       "         2.32515102e+01,  3.67607700e+00,  3.07778592e-01,  2.70265019e-04,\n",
       "        -6.20854725e-01,  4.04042464e+00, -2.07528051e-01,  1.80652850e+01,\n",
       "         6.25073397e-01, -2.12527565e-05,  5.97573934e+00, -7.48627607e-03,\n",
       "         3.43078439e+01,  7.58038855e-02, -1.65243876e-09,  2.76593618e-04,\n",
       "         3.59582144e+00, -5.82419842e-03,  1.89273532e-01,  2.98592887e-01,\n",
       "         9.79516921e-02,  5.35172320e+00,  1.65719981e+00,  2.21872985e+00,\n",
       "         1.09760001e+00,  5.48974105e-04,  1.37479430e+00,  1.44722319e-02,\n",
       "         1.16436207e+00,  2.01083256e+00,  2.42249873e+01, -1.24272986e-01,\n",
       "         2.28120919e-05,  8.64368675e-02,  6.23358018e-01,  8.20151610e+00,\n",
       "         4.58612574e+00, -2.95198678e-02,  3.06953655e+01,  3.43471070e+00,\n",
       "         1.31713197e+01,  1.86499994e-01]),\n",
       " array([ 1.06760823e+01,  5.49663384e-02,  1.23080594e+01, -1.14738439e+01,\n",
       "         3.59039816e+01, -1.86268330e-01,  2.91363569e+00,  2.32515102e+01,\n",
       "         8.22123024e+01,  6.79103980e+00,  2.53023191e-02, -2.68056913e-01,\n",
       "        -1.12416658e+01,  7.32170124e+00, -6.15891388e+00,  5.93761354e+01,\n",
       "         2.91675285e-01, -8.42812541e-01,  1.49131727e+01, -2.70258425e+00,\n",
       "         1.17185040e+02,  7.49631155e-03, -4.79563830e-01, -1.54030018e-01,\n",
       "         6.45442726e+00, -1.22324111e+00,  2.11404838e-01,  7.80357630e-02,\n",
       "        -1.23126941e-03,  1.20643275e+01,  2.12444119e+00,  3.09757762e+00,\n",
       "         1.37577084e+00, -2.05314739e-01,  3.51413140e+00, -1.53530337e-03,\n",
       "         9.34296357e-01,  3.14566137e+00,  9.11503703e+01, -3.59079336e+00,\n",
       "        -5.44081201e-01,  5.13217279e-04,  3.10241027e-01,  2.13754041e+01,\n",
       "         1.09765683e+01, -3.00715255e+00,  1.26774307e+02,  8.73027890e+00,\n",
       "         3.24299054e+01,  7.45308763e-03]),\n",
       " array([ 1.54930114e-03,  2.65926536e+00, -9.19788371e-01,  4.66800641e+01,\n",
       "         2.37869413e-03,  6.60673514e+00,  7.19910691e-01, -6.20854725e-01,\n",
       "        -1.12416658e+01, -3.87502908e-02,  1.10705197e+00,  2.26948934e+01,\n",
       "         1.04495153e+02, -2.24199175e-01,  6.24830163e+01, -7.71767214e+00,\n",
       "         7.77777305e-01,  1.38380617e+01, -1.01538156e-01,  8.60044196e+00,\n",
       "        -4.97985662e+01,  2.87422206e+01,  2.34288303e+01,  3.62642601e+01,\n",
       "        -5.03611393e-02,  3.70586768e+01,  3.81475282e+01,  4.87665434e+00,\n",
       "         2.44234305e+00, -1.88060048e-01,  1.08287407e-01,  2.19306827e-04,\n",
       "         1.68825349e+00,  2.45580924e+01,  1.09385708e+01,  4.05366507e+01,\n",
       "         6.00047691e-02,  1.28953784e-01, -7.38552969e+00,  8.52113758e+01,\n",
       "         1.42233784e+01,  1.32053145e+01,  9.66200417e-01, -1.14433360e+00,\n",
       "        -3.03709888e-05,  2.52481488e+01, -7.34511243e+00,  3.97264683e-01,\n",
       "        -1.71631238e+01,  4.19615571e+00]),\n",
       " array([ 1.00075168e+00,  1.27850193e+00,  1.09912411e+01,  4.22466219e-01,\n",
       "         1.25518339e-09,  2.39679452e+00,  4.11913812e-01,  4.04042464e+00,\n",
       "         7.32170124e+00,  6.07931575e+00,  4.00263570e+00,  1.50926917e-02,\n",
       "        -2.24199175e-01,  9.37070952e+00, -3.63600659e-04,  8.24635831e+00,\n",
       "         2.72938250e+00,  1.11121521e+00,  3.20506403e+00,  6.45289527e+00,\n",
       "         3.27417933e+01, -4.79831785e-01,  3.70878932e-02, -7.93899471e-02,\n",
       "         6.76065864e+00,  4.49343919e-06, -3.41973983e+00,  2.97205953e-01,\n",
       "         3.84499204e+00,  5.38650492e+00,  2.62589377e+00,  5.18290861e+00,\n",
       "         2.99341177e-01,  1.21985791e-03, -8.34725979e-01, -8.74686029e-01,\n",
       "         5.42563143e+00,  1.66343720e+00,  3.05828008e+00, -6.45023516e-01,\n",
       "         7.16352379e-01,  4.71542082e-03,  2.20551111e+00,  6.82373795e+00,\n",
       "         1.56089473e+00,  5.81598775e-01,  9.44176932e-01,  5.36269003e-02,\n",
       "         3.88199431e+01,  9.25376043e-01]),\n",
       " array([ 8.03616306e-04,  2.98532500e+00, -5.74312186e-02,  4.42772103e+01,\n",
       "        -6.87331973e-02,  8.93949155e+00,  4.39222032e-01, -2.07528051e-01,\n",
       "        -6.15891388e+00,  1.85991531e-04,  2.41553183e+00,  1.53667733e+01,\n",
       "         6.24830163e+01, -3.63600659e-04,  4.23785481e+01, -3.52086454e+00,\n",
       "         1.42296108e+00,  1.48088836e+01, -1.70088990e-02,  1.61014531e+01,\n",
       "        -1.86888169e+01,  1.04630859e+01,  1.68194164e+01,  1.80761104e+01,\n",
       "         2.12576158e-04,  2.39297700e+01,  9.54046589e+00,  3.65506124e+00,\n",
       "         4.50049426e+00, -1.08116474e-02,  2.88790472e-01,  7.24214402e-02,\n",
       "         1.07088645e+00,  1.54462580e+01,  1.90344424e+00,  1.52231141e+01,\n",
       "         4.57339494e-01,  2.04111787e-01, -5.71890620e+00,  4.34941328e+01,\n",
       "         1.39077883e+01,  7.58802376e+00,  1.50334101e+00, -2.51768217e-01,\n",
       "         1.66435245e-05,  2.43264288e+01, -8.36408095e+00,  6.57322217e-02,\n",
       "        -2.91393322e+00,  4.21608918e+00]),\n",
       " array([ 7.52560718e+00,  1.45405219e-01,  1.28335551e+01, -4.57066742e+00,\n",
       "         1.74452465e+01, -5.12487161e-03,  2.09684278e+00,  1.80652850e+01,\n",
       "         5.93761354e+01,  7.00454372e+00,  1.93454342e-01, -1.21651305e-01,\n",
       "        -7.71767214e+00,  8.24635831e+00, -3.52086454e+00,  4.52479165e+01,\n",
       "         5.66358779e-01, -1.60862235e-01,  1.18785754e+01, -3.45585796e-01,\n",
       "         9.99712981e+01, -4.04001552e-04, -1.99918491e-01, -1.87767778e-01,\n",
       "         6.90102457e+00, -7.05970453e-01,  3.45230896e-04,  9.87569427e-02,\n",
       "         1.62482348e-02,  1.08683322e+01,  2.29944527e+00,  3.66917736e+00,\n",
       "         1.02845783e+00, -1.14570053e-01,  8.44436317e-01, -4.83451653e-02,\n",
       "         1.58320187e+00,  2.84034968e+00,  5.95025544e+01, -3.19208584e+00,\n",
       "        -1.07606487e-01,  2.61693957e-04,  5.41660200e-01,  1.82853807e+01,\n",
       "         8.17757374e+00, -9.72611832e-01,  7.44975342e+01,  4.86718231e+00,\n",
       "         3.67759368e+01,  4.33880502e-02]),\n",
       " array([ 3.21370344e-04,  3.64796855e+00,  5.73458352e-01,  3.76277893e+01,\n",
       "        -3.19155842e+00,  1.47346374e+01,  1.18487468e-01, -2.12527565e-05,\n",
       "        -8.42812541e-01,  6.75419730e-01,  7.45739553e+00,  5.40276850e+00,\n",
       "         1.38380617e+01,  1.11121521e+00,  1.48088836e+01, -1.60862235e-01,\n",
       "         3.62220532e+00,  1.62340404e+01,  7.41113564e-03,  4.10754716e+01,\n",
       "        -1.23853133e-01,  5.99914302e-02,  7.09253348e+00,  1.73959001e+00,\n",
       "         8.50647849e-01,  7.12834751e+00, -7.33938088e-02,  1.78936751e+00,\n",
       "         1.13871245e+01,  1.38689507e-01,  1.12808109e+00,  1.52099390e+00,\n",
       "         3.20390609e-01,  4.21439375e+00, -4.13426017e-01,  1.34791938e-01,\n",
       "         3.65637204e+00,  4.51436895e-01, -2.75187085e+00,  4.69184546e+00,\n",
       "         1.27348841e+01,  1.47360381e+00,  3.10484624e+00,  1.44468961e-02,\n",
       "         4.33220003e-03,  2.14800023e+01, -9.69019684e+00, -1.58847494e-02,\n",
       "         8.62674811e-01,  4.14303468e+00]),\n",
       " array([-1.06379205e-01,  7.02865995e+00,  4.25967213e+00,  9.35019130e+01,\n",
       "        -4.81441710e+01,  4.44643395e+01,  6.98780942e-07, -7.48627607e-03,\n",
       "        -2.70258425e+00,  2.77579999e+00,  2.53124722e+01,  4.47017581e+00,\n",
       "         8.60044196e+00,  6.45289527e+00,  1.61014531e+01, -3.45585796e-01,\n",
       "         9.75331595e+00,  4.10754716e+01,  3.54161584e-04,  1.66686229e+02,\n",
       "         1.16135840e-02, -1.99162128e+00,  7.68844738e+00,  2.24277955e-02,\n",
       "         3.82670471e+00,  5.34579111e+00, -2.88187880e+01,  1.32026098e+00,\n",
       "         3.89330778e+01,  4.81315916e-01,  2.40959060e+00,  5.52790150e+00,\n",
       "         1.75521742e-02,  2.32487682e+00, -3.19067106e+01, -1.69493737e+00,\n",
       "         1.39189429e+01,  4.49099412e-01, -1.51029860e+01,  3.61743969e-01,\n",
       "         2.79955973e+01,  2.31084532e-01,  7.36091069e+00,  9.38599259e-02,\n",
       "        -9.02506733e-03,  5.04994249e+01, -6.25598530e+01, -2.94077048e+00,\n",
       "         1.87644948e+01,  7.30762160e+00]),\n",
       " array([ 7.47735211e+00,  2.37402707e-01,  4.82898064e+01, -7.00955776e+00,\n",
       "         3.50709456e+00,  7.33553607e-03,  1.01595905e+00,  3.43078439e+01,\n",
       "         1.17185040e+02,  2.17236380e+01,  1.76281067e+00, -2.15954191e+00,\n",
       "        -4.97985662e+01,  3.27417933e+01, -1.86888169e+01,  9.99712981e+01,\n",
       "         1.96576416e+00, -1.23853133e-01,  2.15393310e+01,  1.16135840e-02,\n",
       "         3.39015995e+02, -7.67995640e+00, -2.14248666e+00, -9.15900385e+00,\n",
       "         2.31754988e+01, -7.21095102e+00, -1.76258593e+01,  1.31195072e-03,\n",
       "         6.40247831e-01,  2.73670079e+01,  5.12248947e+00,  1.24883661e+01,\n",
       "         2.82041399e-01, -2.94030964e+00, -1.43542462e+00, -1.46564753e+01,\n",
       "         7.68462427e+00,  4.18642622e+00,  8.36093543e+01, -4.11202499e+01,\n",
       "        -1.96286904e-01, -5.52480152e-01,  1.47452108e+00,  4.60594199e+01,\n",
       "         1.03722268e+01, -1.55297405e+00,  7.26446120e+01,  1.08080922e+00,\n",
       "         2.01517114e+02,  3.50151078e-02]),\n",
       " array([ 2.37846256e+00,  3.00182636e-01, -7.12092580e-01,  1.68748456e-01,\n",
       "         4.23322889e+01, -2.46225515e-04,  4.03418409e+00,  7.58038855e-02,\n",
       "         7.49631155e-03, -2.04875825e-02, -2.24119198e-02,  7.19792681e+00,\n",
       "         2.87422206e+01, -4.79831785e-01,  1.04630859e+01, -4.04001552e-04,\n",
       "         5.11638017e-03,  5.99914302e-02,  1.50639073e-01, -1.99162128e+00,\n",
       "        -7.67995640e+00,  6.72433119e+01,  5.20386284e+00,  3.30940156e+01,\n",
       "        -6.59047015e-02,  1.12093727e+01,  1.67638186e+02,  3.07548524e+00,\n",
       "        -4.46454173e-02, -2.42088712e-05,  5.44214788e-02, -1.07652818e-02,\n",
       "         4.43005516e+00,  1.07210410e+01,  1.05749002e+02,  7.94995079e+01,\n",
       "        -6.58670698e-02,  4.90355145e-01,  1.49368166e+00,  5.20801820e+01,\n",
       "         3.24975401e-01,  1.18466409e+01,  4.40047065e-02, -4.09123252e-03,\n",
       "         1.14344265e+00,  2.42295405e-01,  1.00424911e+01,  1.46198913e+01,\n",
       "        -2.17964929e+01,  5.56674860e-01]),\n",
       " array([ 6.10383018e-01,  9.32923764e-01, -2.29490127e-01,  4.96093401e+00,\n",
       "         6.77404563e+00,  5.07701716e-01,  1.94770800e+00,  2.76593618e-04,\n",
       "        -1.54030018e-01, -6.98513095e-04,  6.10069867e-02,  9.23344869e+00,\n",
       "         3.62642601e+01, -7.93899471e-02,  1.80761104e+01, -1.87767778e-01,\n",
       "         1.87307640e-01,  1.73959001e+00,  1.65116688e-02,  2.24277955e-02,\n",
       "        -9.15900385e+00,  3.30940156e+01,  8.15861592e+00,  2.40136261e+01,\n",
       "        -4.29445657e-03,  1.42475953e+01,  6.47892619e+01,  3.14870442e+00,\n",
       "         1.03259362e-01, -1.55279322e-04,  1.36524765e-01,  4.74892384e-04,\n",
       "         2.61394277e+00,  1.14967216e+01,  3.37424216e+01,  4.12421838e+01,\n",
       "         1.22626934e-03,  3.77432679e-01,  1.52408319e-05,  4.37690915e+01,\n",
       "         2.47871813e+00,  9.26856078e+00,  3.19733425e-01, -2.30415903e-02,\n",
       "         2.83204577e-01,  3.39787880e+00,  1.36991502e-01,  4.12280086e+00,\n",
       "        -9.24164816e+00,  1.44893193e+00]),\n",
       " array([ 7.29820464e-02,  1.99791157e+00, -1.00811584e-02,  1.95767334e+01,\n",
       "         4.75382391e-02,  4.09396623e+00,  7.64671925e-01, -5.82419842e-03,\n",
       "        -1.22324111e+00,  5.31925029e-03,  1.19883580e+00,  1.00042103e+01,\n",
       "         3.70586768e+01,  4.49343919e-06,  2.39297700e+01, -7.05970453e-01,\n",
       "         9.23708826e-01,  7.12834751e+00,  2.95097141e-04,  5.34579111e+00,\n",
       "        -7.21095102e+00,  1.12093727e+01,  1.03664499e+01,  1.42475953e+01,\n",
       "         3.99396096e-03,  1.50718719e+01,  1.36308693e+01,  2.95878425e+00,\n",
       "         2.03109532e+00,  3.58891475e-06,  3.15914122e-01,  7.98691157e-02,\n",
       "         1.34279549e+00,  1.05748448e+01,  4.67535347e+00,  1.50909716e+01,\n",
       "         2.75215409e-01,  3.23889114e-01, -7.53131728e-01,  3.01630869e+01,\n",
       "         7.18438746e+00,  6.24551459e+00,  1.03899243e+00, -2.34905906e-02,\n",
       "         3.65800462e-02,  1.15702807e+01, -8.28446837e-01,  4.81243753e-01,\n",
       "        -1.70867731e+00,  2.75441587e+00]),\n",
       " array([ 5.96342863e+00,  3.86280239e-02, -3.97913638e+00, -1.22580346e-01,\n",
       "         1.56723460e+02, -1.07368049e+00,  8.19737252e+00,  1.89273532e-01,\n",
       "         2.11404838e-01, -3.98247777e-01, -1.50566420e+00,  8.26780057e+00,\n",
       "         3.81475282e+01, -3.41973983e+00,  9.54046589e+00,  3.45230896e-04,\n",
       "        -4.51257439e-02, -7.33938088e-02,  2.66966777e-01, -2.88187880e+01,\n",
       "        -1.76258593e+01,  1.67638186e+02,  4.77215497e+00,  6.47892619e+01,\n",
       "        -8.41052581e-01,  1.36308693e+01,  4.81571455e+02,  3.76694556e+00,\n",
       "        -2.50254780e+00, -1.76202027e-02,  1.57262874e-03, -4.43972009e-01,\n",
       "         8.18531698e+00,  1.48368694e+01,  3.23019105e+02,  1.94645252e+02,\n",
       "        -1.57534090e+00,  4.94150578e-01,  9.12759596e+00,  9.57140603e+01,\n",
       "         3.18133298e-04,  2.05356825e+01, -4.18042304e-04, -3.99612502e-02,\n",
       "         2.59405210e+00, -6.44350443e-03,  5.39745798e+01,  4.23172895e+01,\n",
       "        -7.87986918e+01,  1.46670184e-01]),\n",
       " array([ 1.57780765e-02,  3.21108106e+00,  3.09694407e+00,  2.12533256e+01,\n",
       "        -3.19947112e+00,  1.26791240e+01,  1.01502679e-01,  9.79516921e-02,\n",
       "        -1.23126941e-03,  2.20610136e+00,  8.64564966e+00,  1.91456985e+00,\n",
       "         2.44234305e+00,  3.84499204e+00,  4.50049426e+00,  1.62482348e-02,\n",
       "         4.28219782e+00,  1.13871245e+01,  1.97799332e-01,  3.89330778e+01,\n",
       "         6.40247831e-01, -4.46454173e-02,  2.84912473e+00,  1.03259362e-01,\n",
       "         2.68633859e+00,  2.03109532e+00, -2.50254780e+00,  1.03255926e+00,\n",
       "         1.18571954e+01,  9.33676493e-01,  1.80339495e+00,  3.21061276e+00,\n",
       "         2.00570339e-01,  1.19599321e+00, -2.43808215e+00, -3.97898674e-02,\n",
       "         5.85448082e+00,  7.34821466e-01, -3.61738554e-01,  2.59238394e-01,\n",
       "         8.27925377e+00,  3.53467840e-01,  3.48081499e+00,  5.64997050e-01,\n",
       "         6.61230920e-02,  1.30020999e+01, -3.57153073e+00, -2.94786728e-02,\n",
       "         9.51850870e+00,  3.21013439e+00]),\n",
       " array([ 8.28134093e+00,  1.77358809e-02, -7.63393458e-01, -1.54042853e+00,\n",
       "         1.60221487e+02, -1.62522465e+00,  7.98164334e+00,  1.37479430e+00,\n",
       "         3.51413140e+00, -2.23005288e-02, -1.18042166e+00,  3.13082464e+00,\n",
       "         1.09385708e+01, -8.34725979e-01,  1.90344424e+00,  8.44436317e-01,\n",
       "        -1.99097142e-02, -4.13426017e-01,  1.22633347e+00, -3.19067106e+01,\n",
       "        -1.43542462e+00,  1.05749002e+02,  1.44904772e+00,  3.37424216e+01,\n",
       "        -1.04780922e-01,  4.67535347e+00,  3.23019105e+02,  2.38338142e+00,\n",
       "        -2.43808215e+00,  1.34288651e-02,  2.79199727e-02, -7.34795742e-02,\n",
       "         7.02476925e+00,  6.40297957e+00,  2.44144749e+02,  1.17172903e+02,\n",
       "        -7.13734158e-01,  8.26863963e-01,  2.34858508e+01,  4.13752886e+01,\n",
       "        -2.35495091e-02,  1.18055993e+01, -1.06975817e-05,  2.49115434e-02,\n",
       "         4.45230714e+00, -3.03562461e-01,  8.95651236e+01,  4.08590865e+01,\n",
       "        -2.81657315e+01,  5.39137213e-02]),\n",
       " array([ 1.98905705e+00,  3.44000347e-01, -1.33743658e+00,  4.87744630e-01,\n",
       "         4.06836492e+01,  5.30469181e-08,  4.02340944e+00,  1.44722319e-02,\n",
       "        -1.53530337e-03, -7.15479100e-02, -2.60607016e-02,  9.43659795e+00,\n",
       "         4.05366507e+01, -8.74686029e-01,  1.52231141e+01, -4.83451653e-02,\n",
       "         3.61169558e-03,  1.34791938e-01,  5.92508433e-02, -1.69493737e+00,\n",
       "        -1.46564753e+01,  7.94995079e+01,  7.02671806e+00,  4.12421838e+01,\n",
       "        -1.66470850e-01,  1.50909716e+01,  1.94645252e+02,  3.54616315e+00,\n",
       "        -3.97898674e-02, -6.72660071e-03,  3.33610607e-02, -3.42267019e-02,\n",
       "         4.64831309e+00,  1.37927916e+01,  1.17172903e+02,  9.55026301e+01,\n",
       "        -1.10315443e-01,  4.04954892e-01,  6.63585000e-01,  6.82694416e+01,\n",
       "         5.41177185e-01,  1.42352813e+01,  4.03693867e-02, -4.87797934e-02,\n",
       "         8.59719801e-01,  5.06676472e-01,  6.86949340e+00,  1.45387445e+01,\n",
       "        -3.20725689e+01,  6.74319526e-01]),\n",
       " array([ 1.50711811e+01,  6.63463545e-03,  6.10599502e+00, -2.25321165e+01,\n",
       "         8.77447289e+01, -1.46472706e+00,  4.78982448e+00,  2.42249873e+01,\n",
       "         9.11503703e+01,  3.88238245e+00, -1.30855988e-02, -1.54066225e-01,\n",
       "        -7.38552969e+00,  3.05828008e+00, -5.71890620e+00,  5.95025544e+01,\n",
       "         3.81787121e-02, -2.75187085e+00,  1.53983698e+01, -1.51029860e+01,\n",
       "         8.36093543e+01,  1.49368166e+00, -4.37995673e-01,  1.52408319e-05,\n",
       "         3.31582630e+00, -7.53131728e-01,  9.12759596e+00,  1.32455885e-01,\n",
       "        -3.61738554e-01,  9.34533535e+00,  1.36510922e+00,  1.32415554e+00,\n",
       "         2.44132137e+00, -5.50182750e-02,  2.34858508e+01,  6.63585000e-01,\n",
       "         1.20545503e-01,  3.06273444e+00,  1.24736248e+02, -7.74099011e-01,\n",
       "        -1.54224126e+00,  6.43779612e-02,  7.10397067e-02,  1.76729803e+01,\n",
       "         1.37234521e+01, -6.69158045e+00,  2.08928585e+02,  1.94492080e+01,\n",
       "         1.02108736e+01,  3.22275244e-05]),\n",
       " array([ 1.68926455e-01,  1.38190159e+00, -1.55185240e+00,  1.66078017e+01,\n",
       "         3.44151837e+00,  1.41261074e+00,  1.68685884e+00, -1.24272986e-01,\n",
       "        -3.59079336e+00, -9.69159212e-02,  9.71936221e-02,  1.83981064e+01,\n",
       "         8.52113758e+01, -6.45023516e-01,  4.34941328e+01, -3.19208584e+00,\n",
       "         1.97369086e-01,  4.69184546e+00, -7.00695514e-03,  3.61743969e-01,\n",
       "        -4.11202499e+01,  5.20801820e+01,  1.70390549e+01,  4.37690915e+01,\n",
       "        -1.55171424e-01,  3.01630869e+01,  9.57140603e+01,  4.63499342e+00,\n",
       "         2.59238394e-01, -1.32207409e-01,  5.28560353e-02, -4.75337446e-03,\n",
       "         2.80625790e+00,  2.22154012e+01,  4.13752886e+01,  6.82694416e+01,\n",
       "        -1.75322804e-05,  1.89626214e-01, -7.74099011e-01,  9.03585266e+01,\n",
       "         6.01913800e+00,  1.52336143e+01,  3.54911675e-01, -6.93053399e-01,\n",
       "         3.49565909e-02,  9.72071641e+00, -1.03815342e-01,  3.09373805e+00,\n",
       "        -2.90210974e+01,  2.37405266e+00]),\n",
       " array([ 6.37881446e-03,  3.11941527e+00,  3.44999281e-01,  2.94018967e+01,\n",
       "        -1.12082539e+00,  1.10538154e+01,  2.01846540e-01,  2.28120919e-05,\n",
       "        -5.44081201e-01,  4.95194759e-01,  5.46606850e+00,  5.38387634e+00,\n",
       "         1.42233784e+01,  7.16352379e-01,  1.39077883e+01, -1.07606487e-01,\n",
       "         2.86031112e+00,  1.27348841e+01,  1.34200719e-02,  2.79955973e+01,\n",
       "        -1.96286904e-01,  3.24975401e-01,  6.72678074e+00,  2.47871813e+00,\n",
       "         6.01983638e-01,  7.18438746e+00,  3.18133298e-04,  1.85241455e+00,\n",
       "         8.27925377e+00,  1.14407910e-01,  9.67596096e-01,  1.12873745e+00,\n",
       "         4.47176900e-01,  4.47593307e+00, -2.35495091e-02,  5.41177185e-01,\n",
       "         2.62471062e+00,  4.62966778e-01, -1.54224126e+00,  6.01913800e+00,\n",
       "         1.03674119e+01,  1.82998894e+00,  2.53809134e+00,  1.18673201e-02,\n",
       "         1.53325302e-02,  1.71059568e+01, -5.23409791e+00, -5.34116974e-06,\n",
       "         2.92855690e-01,  3.60353980e+00]),\n",
       " array([ 3.22926294e+00,  5.00083687e-01,  9.22077543e+00, -7.00555951e-02,\n",
       "         3.00810260e+00,  1.52798058e-01,  1.15666016e+00,  8.20151610e+00,\n",
       "         2.13754041e+01,  5.30611941e+00,  9.88120361e-01, -6.89123838e-07,\n",
       "        -1.14433360e+00,  6.82373795e+00, -2.51768217e-01,  1.82853807e+01,\n",
       "         1.16878964e+00,  1.44468961e-02,  5.87786164e+00,  9.38599259e-02,\n",
       "         4.60594199e+01, -4.09123252e-03, -1.21727319e-05, -2.30415903e-02,\n",
       "         5.47529588e+00, -2.34905906e-02, -3.99612502e-02,  2.33199669e-01,\n",
       "         5.64997050e-01,  6.53061873e+00,  2.15880708e+00,  3.55545197e+00,\n",
       "         7.01702073e-01, -1.49935029e-04,  2.49115434e-02, -4.87797934e-02,\n",
       "         2.44878898e+00,  2.05863031e+00,  1.76729803e+01, -6.93053399e-01,\n",
       "         1.18673201e-02,  1.41694945e-02,  1.04163183e+00,  9.64340275e+00,\n",
       "         3.80740841e+00, -1.21621999e-04,  1.73962998e+01,  1.43395394e+00,\n",
       "         2.68588124e+01,  2.98055031e-01]),\n",
       " array([-6.41087335e-04,  4.19682907e+00,  1.89330427e-01,  5.43524161e+01,\n",
       "        -4.88071766e+00,  1.81797571e+01,  9.38701431e-02, -2.95198678e-02,\n",
       "        -3.00715255e+00,  3.47309798e-01,  8.02772448e+00,  8.25034768e+00,\n",
       "         2.52481488e+01,  5.81598775e-01,  2.43264288e+01, -9.72611832e-01,\n",
       "         3.72734742e+00,  2.14800023e+01, -2.03753346e-05,  5.04994249e+01,\n",
       "        -1.55297405e+00,  2.42295405e-01,  1.06305541e+01,  3.39787880e+00,\n",
       "         4.60812214e-01,  1.15702807e+01, -6.44350443e-03,  2.25692322e+00,\n",
       "         1.30020999e+01,  2.61697794e-02,  9.32269234e-01,  1.11996450e+00,\n",
       "         3.33786135e-01,  6.68988421e+00, -3.03562461e-01,  5.06676472e-01,\n",
       "         3.30073660e+00,  3.34149761e-01, -6.69158045e+00,  9.72071641e+00,\n",
       "         1.71059568e+01,  2.28080448e+00,  3.23330033e+00, -1.21621999e-04,\n",
       "        -1.99843344e-07,  2.99698094e+01, -1.85774152e+01, -4.02924056e-02,\n",
       "         1.23751896e-01,  5.01347357e+00]),\n",
       " array([ 2.45233353e+01, -9.73506299e-04,  2.77890121e+00, -5.57816743e+01,\n",
       "         2.16867801e+02, -7.44374674e+00,  8.34395060e+00,  3.06953655e+01,\n",
       "         1.26774307e+02,  2.15245473e+00, -7.83762508e-01, -1.95634133e-01,\n",
       "        -7.34511243e+00,  9.44176932e-01, -8.36408095e+00,  7.44975342e+01,\n",
       "        -4.46100017e-04, -9.69019684e+00,  1.90304023e+01, -6.25598530e+01,\n",
       "         7.26446120e+01,  1.00424911e+01, -7.71306272e-01,  1.36991502e-01,\n",
       "         1.52462500e+00, -8.28446837e-01,  5.39745798e+01,  1.62707036e-01,\n",
       "        -3.57153073e+00,  8.28515424e+00,  8.16685775e-01,  3.87205786e-01,\n",
       "         4.32759625e+00, -2.75890573e-02,  8.95651236e+01,  6.86949340e+00,\n",
       "        -3.23687531e-04,  3.27719723e+00,  2.08928585e+02, -1.03815342e-01,\n",
       "        -5.23409791e+00,  3.10429621e-01,  4.42518876e-04,  1.73962998e+01,\n",
       "         2.01190734e+01, -1.85774152e+01,  4.06076494e+02,  4.39535288e+01,\n",
       "         1.79356530e+00, -1.39924332e-02]),\n",
       " array([ 5.35062215e+00,  1.40955632e-01,  1.10754294e-01, -4.33758420e-01,\n",
       "         4.37600340e+01, -4.24379910e-02,  3.69838455e+00,  3.43471070e+00,\n",
       "         8.73027890e+00,  2.82679784e-01, -5.54066561e-04,  5.05522882e-01,\n",
       "         3.97264683e-01,  5.36269003e-02,  6.57322217e-02,  4.86718231e+00,\n",
       "         4.51187104e-02, -1.58847494e-02,  2.70392459e+00, -2.94077048e+00,\n",
       "         1.08080922e+00,  1.46198913e+01,  2.34103810e-01,  4.12280086e+00,\n",
       "         1.80009380e-01,  4.81243753e-01,  4.23172895e+01,  1.01866479e+00,\n",
       "        -2.94786728e-02,  9.53682901e-01,  4.45111515e-01,  1.15987882e-01,\n",
       "         2.93285757e+00,  9.52653628e-01,  4.08590865e+01,  1.45387445e+01,\n",
       "         4.04362707e-03,  1.28859489e+00,  1.94492080e+01,  3.09373805e+00,\n",
       "        -5.34116974e-06,  2.38051344e+00,  1.03312566e-01,  1.43395394e+00,\n",
       "         3.99989005e+00, -4.02924056e-02,  4.39535288e+01,  1.28190208e+01,\n",
       "        -1.39018159e-02,  1.45707403e-01]),\n",
       " array([ 1.24799281e+00,  1.48113402e+00,  4.86629945e+01,  1.96398778e-02,\n",
       "        -8.60745579e-01,  4.17769280e+00,  1.17546622e-01,  1.31713197e+01,\n",
       "         3.24299054e+01,  2.16836451e+01,  1.04891765e+01, -3.20727588e-01,\n",
       "        -1.71631238e+01,  3.88199431e+01, -2.91393322e+00,  3.67759368e+01,\n",
       "         5.96007347e+00,  8.62674811e-01,  9.10756169e+00,  1.87644948e+01,\n",
       "         2.01517114e+02, -2.17964929e+01, -1.34195688e-01, -9.24164816e+00,\n",
       "         2.50152896e+01, -1.70867731e+00, -7.87986918e+01,  1.87081464e-02,\n",
       "         9.51850870e+00,  1.88725898e+01,  5.97839909e+00,  1.68271832e+01,\n",
       "         3.04250827e-02, -9.28272874e-01, -2.81657315e+01, -3.20725689e+01,\n",
       "         1.73333381e+01,  2.84825230e+00,  1.02108736e+01, -2.90210974e+01,\n",
       "         2.92855690e-01, -5.22350779e-01,  4.19502300e+00,  2.68588124e+01,\n",
       "         2.82274187e+00,  1.23751896e-01,  1.79356530e+00, -1.39018159e-02,\n",
       "         2.32271412e+02,  7.18055279e-01])]"
      ]
     },
     "execution_count": 682,
     "metadata": {},
     "output_type": "execute_result"
    }
   ],
   "source": [
    "class_kernel_matrix[0]"
   ]
  },
  {
   "cell_type": "code",
   "execution_count": null,
   "metadata": {},
   "outputs": [],
   "source": [
    "# Are new samples with old training samples or new samples?"
   ]
  },
  {
   "cell_type": "code",
   "execution_count": 316,
   "metadata": {},
   "outputs": [
    {
     "data": {
      "text/plain": [
       "(2, 10)"
      ]
     },
     "execution_count": 316,
     "metadata": {},
     "output_type": "execute_result"
    }
   ],
   "source": [
    "np.shape(kc_matrix)"
   ]
  },
  {
   "cell_type": "code",
   "execution_count": null,
   "metadata": {},
   "outputs": [],
   "source": [
    "# Try XOR or circle for my other guy."
   ]
  },
  {
   "cell_type": "code",
   "execution_count": null,
   "metadata": {},
   "outputs": [],
   "source": [
    "# extend to 3 dimensions"
   ]
  }
 ],
 "metadata": {
  "kernelspec": {
   "display_name": "Python [conda env:obspy] *",
   "language": "python",
   "name": "conda-env-obspy-py"
  },
  "language_info": {
   "codemirror_mode": {
    "name": "ipython",
    "version": 3
   },
   "file_extension": ".py",
   "mimetype": "text/x-python",
   "name": "python",
   "nbconvert_exporter": "python",
   "pygments_lexer": "ipython3",
   "version": "3.6.7"
  }
 },
 "nbformat": 4,
 "nbformat_minor": 2
}
